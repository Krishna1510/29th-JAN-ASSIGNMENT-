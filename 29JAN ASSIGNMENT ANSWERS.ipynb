{
 "cells": [
  {
   "cell_type": "markdown",
   "id": "51b54a27-6d3a-4b73-a298-c6e124bbb724",
   "metadata": {},
   "source": [
    "# 29 JAN ASSIGNMENT ANSWERS"
   ]
  },
  {
   "cell_type": "markdown",
   "id": "d23e2733-8ce0-413e-af9b-69cf28cf1ff9",
   "metadata": {},
   "source": [
    "#ANSWERS\n",
    "1. Guido van Rossum developed python programming language.\n",
    "2. Python supports Object-oriented programming and structured programming .\n",
    "3. yes python is case sensitive while dealing with identifiers .\n",
    "4. .py is the correct extension of the Python file.\n",
    "5. Python is both compiled as well as an interpreted language, which means when we run a python code, it is first        compiled and then interpreted line by line .\n",
    "6. Indentation is used to define a block of code in python .Indentation is done with whitespace. \n",
    "7. We can write a single-line comment by adding a single # character before any statement or line of code.\n",
    "8. Answer is in below line"
   ]
  },
  {
   "cell_type": "code",
   "execution_count": 2,
   "id": "548b36ea-9e04-45af-98f7-9c43f094cb95",
   "metadata": {},
   "outputs": [
    {
     "name": "stdout",
     "output_type": "stream",
     "text": [
      "3.10.8 | packaged by conda-forge | (main, Nov 22 2022, 08:26:04) [GCC 10.4.0]\n"
     ]
    }
   ],
   "source": [
    "import sys\n",
    "\n",
    "print(sys.version)"
   ]
  },
  {
   "cell_type": "code",
   "execution_count": 3,
   "id": "51a109a0-a86f-4706-a206-ebb448888960",
   "metadata": {},
   "outputs": [
    {
     "name": "stdout",
     "output_type": "stream",
     "text": [
      "sys.version_info(major=3, minor=10, micro=8, releaselevel='final', serial=0)\n"
     ]
    }
   ],
   "source": [
    "import sys\n",
    "\n",
    "print(sys.version_info)"
   ]
  },
  {
   "cell_type": "code",
   "execution_count": 4,
   "id": "097f0881-7fed-49d3-9442-588ce2e65664",
   "metadata": {},
   "outputs": [
    {
     "name": "stdout",
     "output_type": "stream",
     "text": [
      "3.10.8\n"
     ]
    }
   ],
   "source": [
    "import platform\n",
    "\n",
    "print(platform.python_version())"
   ]
  },
  {
   "cell_type": "code",
   "execution_count": 5,
   "id": "96895dc8-a3fb-4436-87ff-2d260df3f22e",
   "metadata": {},
   "outputs": [
    {
     "name": "stdout",
     "output_type": "stream",
     "text": [
      "('3', '10', '8')\n"
     ]
    }
   ],
   "source": [
    "import platform\n",
    "\n",
    "print(platform.python_version_tuple())"
   ]
  },
  {
   "cell_type": "markdown",
   "id": "0cc72767-d3cc-41a9-b976-3096e75a6545",
   "metadata": {},
   "source": [
    "# ANSWERS\n",
    "\n",
    "9.  lambda keyword is used to define an anonymous function in Python\n",
    "10. Preferred Installer Program .\n",
    "11. few built in finctions are : float() , bool() , compile() , dict() ,format() ,len() , list() , range() ,tuple() ,\n",
    "    type()\n",
    "12. An identifier can have a maximum length of 79 characters in Python.   \n",
    "13. some of the benifits of using python are :\n",
    "    a. Simple to Use and Understand .\n",
    "    b. Python is highly extensible, meaning that you can extend Python to other languages .\n",
    "    c. one of the major benefits of choosing Python , you can incorporate large amount of libraries into your code .\n",
    "    d. Python’s benefits is that it is an extremely productive language .\n",
    "    e. python, being an interpreted language, can execute the code directly, one line after the other.\n",
    "14. Memory management in Python involves a private heap containing all Python objects and data structures. The \n",
    "    management of this private heap is ensured internally by the Python memory manager.\n",
    "15. To install python  , first  visit www.python.org, which is the official Python website ,\n",
    "    Click on the Downloads tab and then select the Windows option. \n",
    "    Once the executable file download is complete, you can open it to install Python.\n",
    "    Click on Run, which will start the installation process.\n",
    "    select the checkbox at the bottom to Add Python 3.7 to PATH.\n",
    "    Once the installation is complete, the pop-up box will appear: Setup was successful.\n",
    "    \n",
    "16. Indentation in Python is very important. Python uses indentation to indicate a block of code."
   ]
  },
  {
   "cell_type": "code",
   "execution_count": null,
   "id": "8c34840e-9522-473f-977f-d2aa80aa759c",
   "metadata": {},
   "outputs": [],
   "source": []
  }
 ],
 "metadata": {
  "kernelspec": {
   "display_name": "Python 3 (ipykernel)",
   "language": "python",
   "name": "python3"
  },
  "language_info": {
   "codemirror_mode": {
    "name": "ipython",
    "version": 3
   },
   "file_extension": ".py",
   "mimetype": "text/x-python",
   "name": "python",
   "nbconvert_exporter": "python",
   "pygments_lexer": "ipython3",
   "version": "3.10.8"
  }
 },
 "nbformat": 4,
 "nbformat_minor": 5
}
